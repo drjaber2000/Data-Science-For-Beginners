{
  "cells": [
    {
      "cell_type": "markdown",
      "metadata": {
        "id": "view-in-github",
        "colab_type": "text"
      },
      "source": [
        "<a href=\"https://colab.research.google.com/github/drjaber2000/Data-Science-For-Beginners/blob/main/this_assignment_for_python_coding_exercise_answer_.ipynb\" target=\"_parent\"><img src=\"https://colab.research.google.com/assets/colab-badge.svg\" alt=\"Open In Colab\"/></a>"
      ]
    },
    {
      "cell_type": "markdown",
      "source": [
        "Certainly, let's break down the Python home assignment and provide code solutions for each part.\n",
        "\n",
        "**Part 1: Basics of Python**\n",
        "\n",
        "*   **Task 1: Zoo Information (Enhanced)**"
      ],
      "metadata": {
        "id": "YyoGCa1VMalI"
      }
    },
    {
      "source": [
        "# 1. Variables\n",
        "zoo_name = \"Amazing Zoo\"\n",
        "total_animals = 150\n",
        "average_ticket_price = 25.50\n",
        "is_open_today = True\n",
        "\n",
        "# 2. List of animal types\n",
        "animal_types = [\"mammals\", \"birds\", \"reptiles\", \"amphibians\", \"fish\"]\n",
        "\n",
        "# 3. Dictionary of animals and their details\n",
        "animals = {\n",
        "    \"Elephant\": {\n",
        "        \"Species\": \"African Elephant\",\n",
        "        \"Diet\": \"herbivore\",\n",
        "        \"Habitat\": \"Savannah\"\n",
        "    },\n",
        "    \"Tiger\": {\n",
        "        \"Species\": \"Bengal Tiger\",\n",
        "        \"Diet\": \"carnivore\",\n",
        "        \"Habitat\": \"Tropical forest\"\n",
        "    },\n",
        "    \"Parrot\": {\n",
        "        \"Species\": \"Macaw\",\n",
        "        \"Diet\": \"herbivore\",\n",
        "        \"Habitat\": \"Rainforest\"\n",
        "    },\n",
        "    \"Crocodile\": {\n",
        "        \"Species\": \"Nile Crocodile\",\n",
        "        \"Diet\": \"carnivore\",\n",
        "        \"Habitat\": \"Freshwater rivers\"\n",
        "    },\n",
        "    \"Kangaroo\": {\n",
        "        \"Species\": \"Red Kangaroo\",\n",
        "        \"Diet\": \"herbivore\",\n",
        "        \"Habitat\": \"Grasslands\"\n",
        "    }\n",
        "}\n",
        "\n",
        "# Outputting data to confirm the setup\n",
        "print(\"Zoo Name:\", zoo_name)\n",
        "print(\"Total Animals:\", total_animals)\n",
        "print(\"Average Ticket Price: $\", average_ticket_price)\n",
        "print(\"Is the Zoo Open Today?\", is_open_today)\n",
        "print(\"\\nAnimal Types Found in the Zoo:\")\n",
        "for animal_type in animal_types:\n",
        "    print(\"-\", animal_type)\n",
        "print(\"\\nDetails of Animals in the Zoo:\")\n",
        "for animal, details in animals.items():\n",
        "    print(f\"{animal}:\")\n",
        "    for key, value in details.items():\n",
        "        print(f\" {key}: {value}\")"
      ],
      "cell_type": "code",
      "metadata": {
        "colab": {
          "base_uri": "https://localhost:8080/"
        },
        "id": "DefvhMpQNT37",
        "outputId": "560ab77e-ea1b-437d-d923-e1df1339428d"
      },
      "execution_count": 4,
      "outputs": [
        {
          "output_type": "stream",
          "name": "stdout",
          "text": [
            "Zoo Name: Amazing Zoo\n",
            "Total Animals: 150\n",
            "Average Ticket Price: $ 25.5\n",
            "Is the Zoo Open Today? True\n",
            "\n",
            "Animal Types Found in the Zoo:\n",
            "- mammals\n",
            "- birds\n",
            "- reptiles\n",
            "- amphibians\n",
            "- fish\n",
            "\n",
            "Details of Animals in the Zoo:\n",
            "Elephant:\n",
            " Species: African Elephant\n",
            " Diet: herbivore\n",
            " Habitat: Savannah\n",
            "Tiger:\n",
            " Species: Bengal Tiger\n",
            " Diet: carnivore\n",
            " Habitat: Tropical forest\n",
            "Parrot:\n",
            " Species: Macaw\n",
            " Diet: herbivore\n",
            " Habitat: Rainforest\n",
            "Crocodile:\n",
            " Species: Nile Crocodile\n",
            " Diet: carnivore\n",
            " Habitat: Freshwater rivers\n",
            "Kangaroo:\n",
            " Species: Red Kangaroo\n",
            " Diet: herbivore\n",
            " Habitat: Grasslands\n"
          ]
        }
      ]
    },
    {
      "cell_type": "markdown",
      "source": [
        "[cite: 29, 30, 31]\n",
        "\n",
        "**Part 2: Functions**\n",
        "\n",
        "*   **Task 2: Define Zoo Operations**"
      ],
      "metadata": {
        "id": "M5NVFiTOMala"
      }
    },
    {
      "source": [
        "def calculate_daily_income(visitors: int, ticket_price: float) -> float:\n",
        "    \"\"\"\n",
        "    Calculate the total income for the day.\n",
        "    Parameters:\n",
        "    visitors (int): The number of visitors to the zoo.\n",
        "    ticket_price (float): The price of a single ticket.\n",
        "    Returns:\n",
        "    float: The total income for the day.\n",
        "    \"\"\"\n",
        "    return visitors * ticket_price\n",
        "\n",
        "def check_open_status(is_open: bool) -> str:\n",
        "    \"\"\"\n",
        "    Check if the zoo is open or closed.\n",
        "    Parameters:\n",
        "    is_open (bool): A boolean value indicating if the zoo is open.\n",
        "    Returns:\n",
        "    str: A message indicating the zoo's status.\n",
        "    \"\"\"\n",
        "    return \"The zoo is open!\" if is_open else \"The zoo is closed!\""
      ],
      "cell_type": "code",
      "metadata": {
        "id": "jHRDx6aONjWR"
      },
      "execution_count": 8,
      "outputs": []
    },
    {
      "cell_type": "markdown",
      "source": [
        "[cite: 32, 33, 34, 35, 36, 37]\n",
        "\n",
        "**Part 3: Loops and Conditionals**\n",
        "\n",
        "*   **Task 3: Track Daily Visitors**"
      ],
      "metadata": {
        "id": "5142F7SnMalp"
      }
    },
    {
      "source": [
        "\n",
        "def simulate_visitors():\n",
        "    \"\"\"\n",
        "    Simulate the arrival of visitors for 5 hours and classify each hour as busy or regular.\n",
        "    \"\"\"\n",
        "    total_visitors = 0  # Initialize total visitors\n",
        "    for hour in range(1, 6):  # Loop for 5 hours\n",
        "        visitors = int(input(f\"Enter the number of visitors for hour {hour}: \"))\n",
        "        total_visitors += visitors  # Add the number of visitors to the total\n",
        "\n",
        "        # Check if the hour is busy or regular\n",
        "        if visitors > 100:\n",
        "            print(\"It's a busy hour!\")\n",
        "        else:\n",
        "            print(\"It's a regular hour.\")\n",
        "\n",
        "    print(f\"Total visitors in 5 hours: {total_visitors}\")\n",
        "\n",
        "# Call the function to simulate the visitors\n",
        "simulate_visitors() # This line was incorrectly indented"
      ],
      "cell_type": "code",
      "metadata": {
        "colab": {
          "base_uri": "https://localhost:8080/"
        },
        "id": "AXm0x9SiN6N_",
        "outputId": "b99a683d-33f5-490e-96bc-b90282fd0cd2"
      },
      "execution_count": 17,
      "outputs": [
        {
          "output_type": "stream",
          "name": "stdout",
          "text": [
            "Enter the number of visitors for hour 1: 100\n",
            "It's a regular hour.\n",
            "Enter the number of visitors for hour 2: 120\n",
            "It's a busy hour!\n",
            "Enter the number of visitors for hour 3: 23\n",
            "It's a regular hour.\n",
            "Enter the number of visitors for hour 4: 55\n",
            "It's a regular hour.\n",
            "Enter the number of visitors for hour 5: 120\n",
            "It's a busy hour!\n",
            "Total visitors in 5 hours: 418\n"
          ]
        }
      ]
    },
    {
      "cell_type": "markdown",
      "source": [
        "[cite: 38, 39]\n",
        "\n",
        "**Part 4: Classes and Inheritance**\n",
        "\n",
        "*   **Task 4: Create Classes for Animals**"
      ],
      "metadata": {
        "id": "1OOXZuC7Malw"
      }
    },
    {
      "source": [
        "class Animal:\n",
        "    def __init__(self, name, species, age, diet):\n",
        "        self.name = name\n",
        "        self.species = species\n",
        "        self.age = age\n",
        "        self.diet = diet\n",
        "\n",
        "    def description(self):\n",
        "        return f\"{self.name} is a {self.species}, {self.age} years old, and a {self.diet}.\"\n",
        "\n",
        "    def eat(self):\n",
        "        return"
      ],
      "cell_type": "code",
      "metadata": {
        "id": "h1Bc2-kwOU5I"
      },
      "execution_count": 18,
      "outputs": []
    },
    {
      "cell_type": "markdown",
      "source": [
        "[cite: 10, 11]\n",
        "\n",
        "**Part 5: List Comprehensions**\n",
        "\n",
        "*   **Task 5: Analyze Animal Data**"
      ],
      "metadata": {
        "id": "synvajeyMamD"
      }
    },
    {
      "source": [
        "animal_ages = [2, 5, 3, 10, 1]\n",
        "\n",
        "# Double the ages of all animals\n",
        "doubled_ages = [age * 2 for age in animal_ages]\n",
        "\n",
        "# Filter out animals older than 5 years\n",
        "filtered_ages = [age for age in doubled_ages if age > 5]\n",
        "\n",
        "# Create a list of Animal objects for each age\n",
        "animals_list = [Animal(f\"Animal{i+1}\", \"Unknown\", age, \"Unknown\") for i, age in enumerate(filtered_ages)]\n",
        "\n",
        "# Print the results\n",
        "print(\"Original ages:\", animal_ages)\n",
        "print(\"Doubled ages:\", doubled_ages)\n",
        "print(\"Filtered ages:\", filtered_ages)\n",
        "print(\"Animal objects:\", animals_list)  # This will print the memory addresses of the objects\n",
        "\n",
        "# To see the descriptions of the animal objects:\n",
        "for animal in animals_list:\n",
        "    print(animal.description())"
      ],
      "cell_type": "code",
      "metadata": {
        "colab": {
          "base_uri": "https://localhost:8080/"
        },
        "id": "v8Zkt3HLgxfg",
        "outputId": "29b3aa86-5d6e-4d6b-9365-12fd5c7f28b7"
      },
      "execution_count": 24,
      "outputs": [
        {
          "output_type": "stream",
          "name": "stdout",
          "text": [
            "Original ages: [2, 5, 3, 10, 1]\n",
            "Doubled ages: [4, 10, 6, 20, 2]\n",
            "Filtered ages: [10, 6, 20]\n",
            "Animal objects: [<__main__.Animal object at 0x7b36a1282a10>, <__main__.Animal object at 0x7b368bc92010>, <__main__.Animal object at 0x7b368bce6c50>]\n",
            "Animal1 is a Unknown, 10 years old, and a Unknown.\n",
            "Animal2 is a Unknown, 6 years old, and a Unknown.\n",
            "Animal3 is a Unknown, 20 years old, and a Unknown.\n"
          ]
        }
      ]
    },
    {
      "cell_type": "markdown",
      "source": [
        "[cite: 13, 14, 15]\n",
        "\n",
        "**Part 6: Nested Loops and Boolean Logic**\n",
        "\n",
        "*   **Task 6: Manage Zoo Inventory**"
      ],
      "metadata": {
        "id": "hxTYCsaKMamQ"
      }
    },
    {
      "source": [
        "zoo_sections = [\"Mammals\", \"Birds\", \"Reptiles\"]\n",
        "total_animals = 0\n",
        "\n",
        "for section in zoo_sections:\n",
        "    while True:\n",
        "        try:\n",
        "            num_animals = int(input(f\"Enter the number of animals in the {section} section: \"))\n",
        "            if num_animals > 0:\n",
        "                break\n",
        "            else:\n",
        "                print(\"Please enter a positive number.\")\n",
        "        except ValueError:\n",
        "            print(\"Invalid input. Please enter an integer.\")\n",
        "    total_animals += num_animals\n",
        "\n",
        "if total_animals > 50:\n",
        "    print(\"The zoo is full!\")\n",
        "else:\n",
        "    print(\"There's still room for more animals.\")"
      ],
      "cell_type": "code",
      "metadata": {
        "colab": {
          "base_uri": "https://localhost:8080/"
        },
        "id": "8ZMCYLz0PetL",
        "outputId": "12bc89b0-8352-4309-95e1-b8a5eccd56b6"
      },
      "execution_count": 21,
      "outputs": [
        {
          "output_type": "stream",
          "name": "stdout",
          "text": [
            "Enter the number of animals in the Mammals section: 0\n",
            "Please enter a positive number.\n",
            "Enter the number of animals in the Mammals section: 12\n",
            "Enter the number of animals in the Birds section: 22\n",
            "Enter the number of animals in the Reptiles section: 9\n",
            "There's still room for more animals.\n"
          ]
        }
      ]
    },
    {
      "cell_type": "markdown",
      "source": [
        "[cite: 15, 16, 17, 18]\n",
        "\n",
        "**Part 7: Advanced Integration**\n",
        "\n",
        "*   **Add a Zoo class**"
      ],
      "metadata": {
        "id": "E2qJvgxXMamU"
      }
    },
    {
      "source": [
        "class Animal:  # Assuming this is your Animal class\n",
        "    def __init__(self, name, species, age, diet):\n",
        "        self.name = name\n",
        "        self.species = species\n",
        "        self.age = age\n",
        "        self.diet = diet\n",
        "\n",
        "    def description(self):\n",
        "        return f\"{self.name} is a {self.species}, {self.age} years old, and a {self.diet}.\"\n",
        "\n",
        "class Zoo:\n",
        "    def __init__(self, name): # Added indentation here\n",
        "        self.name = name\n",
        "        self.total_visitors = 0\n",
        "        self.animals = []\n",
        "\n",
        "    def add_animal(self, animal): # Added indentation here\n",
        "        self.animals.append(animal)\n",
        "\n",
        "    def add_visitor(self, count): # Added indentation here\n",
        "        self.total_visitors += count\n",
        "\n",
        "    def zoo_summary(self): # Added indentation here\n",
        "        print(f\"Zoo Name: {self.name}\")\n",
        "        print(f\"Total Visitors: {self.total_visitors}\")\n",
        "        print(\"Animals in the Zoo:\")\n",
        "        for animal in self.animals:\n",
        "            print(f\" - {animal.description()}\")\n",
        "\n",
        "# Create a Zoo object\n",
        "my_zoo = Zoo(\"My Awesome Zoo\")\n",
        "\n",
        "# Create and add animals\n",
        "animal1 = Animal(\"Leo\", \"Lion\", 5, \"carnivore\")\n",
        "animal2 = Animal(\"Polly\", \"Parrot\", 2, \"herbivore\")\n",
        "my_zoo.add_animal(animal1)\n",
        "my_zoo.add_animal(animal2)\n",
        "\n",
        "# Add visitors\n",
        "my_zoo.add_visitor(100)\n",
        "\n",
        "# Print the zoo summary\n",
        "my_zoo.zoo_summary()"
      ],
      "cell_type": "code",
      "metadata": {
        "colab": {
          "base_uri": "https://localhost:8080/"
        },
        "id": "FpyRnhWHj572",
        "outputId": "c7791cbe-fe20-4e57-8369-c9ca14b15f31"
      },
      "execution_count": 28,
      "outputs": [
        {
          "output_type": "stream",
          "name": "stdout",
          "text": [
            "Zoo Name: My Awesome Zoo\n",
            "Total Visitors: 100\n",
            "Animals in the Zoo:\n",
            " - Leo is a Lion, 5 years old, and a carnivore.\n",
            " - Polly is a Parrot, 2 years old, and a herbivore.\n"
          ]
        }
      ]
    },
    {
      "cell_type": "markdown",
      "source": [
        "[cite: 19, 20]\n",
        "\n",
        "**Part 8: Check Ticket Pricing Based on Age and Time of Visit**"
      ],
      "metadata": {
        "id": "5jOfe42EMamW"
      }
    },
    {
      "cell_type": "code",
      "source": [
        "def calculate_ticket_price(age: int, time_of_visit: str) -> int:\n",
        "    \"\"\"\n",
        "    Calculate the ticket price based on the visitor's age and time of visit.\n",
        "\n",
        "    Parameters:\n",
        "    age (int): The age of the visitor.\n",
        "    time_of_visit (str): The time of the visit (\"before 5 PM\" or \"after 5 PM\").\n",
        "\n",
        "    Returns:\n",
        "    int: The ticket price.\n",
        "    \"\"\"\n",
        "\n",
        "    if age < 5:\n",
        "        return 0  # Entry is free for children under 5\n",
        "    elif 5 <= age <= 17:\n",
        "        if time_of_visit == \"before 5 PM\":\n",
        "            return 10  # Standard pricing for 5-17 years old\n",
        "        else:  # time_of_visit == \"after 5 PM\"\n",
        "            return 8  # Discounted pricing for 5-17 years old\n",
        "    else:  # age >= 18\n",
        "        if time_of_visit == \"before 5 PM\":\n",
        "            return 20  # Standard pricing for adults\n",
        "        else:  # time_of_visit == \"after 5 PM\"\n",
        "            return 15  # Discounted pricing for adults\n",
        "\n",
        "# Example usage\n",
        "age = int(input(\"Enter your age: \"))\n",
        "time_of_visit = input(\"Enter time of visit (before 5 PM or after 5 PM): \")\n",
        "\n",
        "ticket_price = calculate_ticket_price(age, time_of_visit)\n",
        "print(\"Your ticket price is:\", ticket_price, \"SAR\")"
      ],
      "outputs": [
        {
          "output_type": "stream",
          "name": "stdout",
          "text": [
            "Enter your age: 3\n",
            "Enter time of visit (before 5 PM or after 5 PM): after 5 PM\n",
            "Your ticket price is: 0 SAR\n"
          ]
        }
      ],
      "execution_count": 23,
      "metadata": {
        "colab": {
          "base_uri": "https://localhost:8080/"
        },
        "id": "ruUgaR6nMamX",
        "outputId": "e2129096-07dd-437f-97a4-2c202515d4aa"
      }
    },
    {
      "cell_type": "markdown",
      "source": [
        "[cite: 22, 23, 24, 25, 26, 27]"
      ],
      "metadata": {
        "id": "CMiQUjZXMamY"
      }
    }
  ],
  "metadata": {
    "colab": {
      "provenance": [],
      "toc_visible": true,
      "include_colab_link": true
    },
    "kernelspec": {
      "display_name": "Python 3",
      "name": "python3"
    }
  },
  "nbformat": 4,
  "nbformat_minor": 0
}